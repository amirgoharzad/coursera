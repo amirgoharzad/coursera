{
 "cells": [
  {
   "cell_type": "markdown",
   "id": "75492071",
   "metadata": {
    "pycharm": {
     "name": "#%% md\n"
    }
   },
   "source": [
    "## Data Science Tools"
   ]
  },
  {
   "cell_type": "markdown",
   "id": "be992174",
   "metadata": {
    "pycharm": {
     "name": "#%% md\n"
    }
   },
   "source": [
    "### This notebook will discuss the tools which are being used for data science"
   ]
  },
  {
   "cell_type": "markdown",
   "id": "6c06afeb",
   "metadata": {
    "pycharm": {
     "name": "#%% md\n"
    }
   },
   "source": [
    "Data Science Languages:\n",
    "Python,\n",
    "R,\n",
    "SQL,\n",
    "Java,\n",
    "Julia,\n",
    "Scala,\n",
    "C/C++,\n",
    "JavaScript"
   ]
  },
  {
   "cell_type": "markdown",
   "id": "ac4e909d",
   "metadata": {
    "pycharm": {
     "name": "#%% md\n"
    }
   },
   "source": [
    "Data Science Libraries: \n",
    "TensorFlow,\n",
    "NumPy,\n",
    "SciPy,\n",
    "Pandas,\n",
    "Matplotlib,\n",
    "Keras,\n",
    "SciKit-Learn,\n",
    "PyTorch,\n",
    "Scrapy,\n",
    "BeautifulSoup,\n",
    "LightGBM,\n",
    "ELI5,\n",
    "Theano,\n",
    "NuPIC,\n",
    "Ramp,\n",
    "Pipenv,\n",
    "Bob,\n",
    "PyBrain,\n",
    "Caffe2,\n",
    "Chainer"
   ]
  },
  {
   "cell_type": "markdown",
   "id": "26fccdb3",
   "metadata": {
    "pycharm": {
     "name": "#%% md\n"
    }
   },
   "source": [
    "| Data Science Tools |\n",
    "| --- |\n",
    "| BigML | \n",
    "| Apache Spark | \n",
    "| SAS | "
   ]
  },
  {
   "cell_type": "code",
   "execution_count": 1,
   "id": "278df92a",
   "metadata": {
    "pycharm": {
     "name": "#%%\n"
    }
   },
   "outputs": [
    {
     "data": {
      "text/plain": "80"
     },
     "execution_count": 1,
     "metadata": {},
     "output_type": "execute_result"
    }
   ],
   "source": [
    "arithmetic = compile(\"(8 + 12) * 4\", \"<string>\", \"eval\")\n",
    "eval(arithmetic)"
   ]
  },
  {
   "cell_type": "code",
   "execution_count": 2,
   "id": "be8eaaa1",
   "metadata": {
    "pycharm": {
     "name": "#%%\n"
    }
   },
   "outputs": [
    {
     "data": {
      "text/plain": "391"
     },
     "execution_count": 2,
     "metadata": {},
     "output_type": "execute_result"
    }
   ],
   "source": [
    "23*(6+11)"
   ]
  },
  {
   "cell_type": "code",
   "execution_count": 3,
   "id": "419e93e4",
   "metadata": {
    "pycharm": {
     "name": "#%%\n"
    }
   },
   "outputs": [
    {
     "name": "stdout",
     "output_type": "stream",
     "text": [
      "Hours: 2.5\n"
     ]
    }
   ],
   "source": [
    "mins = 150\n",
    "hours = 0\n",
    "\n",
    "hours = mins/60\n",
    "print(\"Hours: \" + str(hours))"
   ]
  },
  {
   "cell_type": "code",
   "execution_count": 4,
   "id": "c9b53fa1",
   "metadata": {
    "pycharm": {
     "name": "#%%\n"
    }
   },
   "outputs": [
    {
     "name": "stdout",
     "output_type": "stream",
     "text": [
      "title of the notebook\n",
      "introduction\n",
      "data science languages\n",
      "data science libraries\n",
      "Data Science tools\n"
     ]
    }
   ],
   "source": [
    "list = [\"title of the notebook\", \"introduction\", \"data science languages\", \"data science libraries\", \"Data Science tools\"]\n",
    "\n",
    "print (*list, sep=\"\\n\")"
   ]
  },
  {
   "cell_type": "markdown",
   "id": "08a86fa3",
   "metadata": {
    "pycharm": {
     "name": "#%% md\n"
    }
   },
   "source": [
    "### Author : Amir Hossein Goharzad"
   ]
  },
  {
   "cell_type": "code",
   "execution_count": 4,
   "id": "ff39aada",
   "metadata": {
    "pycharm": {
     "name": "#%%\n"
    }
   },
   "outputs": [],
   "source": []
  }
 ],
 "metadata": {
  "kernelspec": {
   "display_name": "Python 3",
   "language": "python",
   "name": "python3"
  },
  "language_info": {
   "codemirror_mode": {
    "name": "ipython",
    "version": 3
   },
   "file_extension": ".py",
   "mimetype": "text/x-python",
   "name": "python",
   "nbconvert_exporter": "python",
   "pygments_lexer": "ipython3",
   "version": "3.8.8"
  }
 },
 "nbformat": 4,
 "nbformat_minor": 5
}